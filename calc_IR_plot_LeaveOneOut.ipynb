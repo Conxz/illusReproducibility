{
 "cells": [
  {
   "cell_type": "code",
   "execution_count": 29,
   "metadata": {},
   "outputs": [],
   "source": [
    "import numpy as np\n",
    "import seaborn as sns\n",
    "import matplotlib.pyplot as plt\n",
    "from scipy.stats import pearsonr,spearmanr, ttest_ind, ttest_rel\n",
    "import pandas as pd\n",
    "import os\n"
   ]
  },
  {
   "cell_type": "code",
   "execution_count": 15,
   "metadata": {},
   "outputs": [
    {
     "name": "stdout",
     "output_type": "stream",
     "text": [
      "Index(['Region', 'DOF', 'Tau2', 'Tau2SE', 'I2', 'H2', 'Qdf', 'Q', 'Qp',\n",
      "       'estimate', 'se', 'zval', 'pval', 'ci.lb', 'ci.ub'],\n",
      "      dtype='object')\n",
      "Asy_L_SurfArea_asy.csv\n",
      "0.05 63 0.9\n",
      "Effect size: 0.41808081368876143 0.4214738957933708 0.00122992827650283 1.76176299875005\n",
      "count    70.000000\n",
      "mean      0.418081\n",
      "std       0.421474\n",
      "min       0.001230\n",
      "25%       0.134768\n",
      "50%       0.301917\n",
      "75%       0.507302\n",
      "max       1.761763\n",
      "Name: estimate, dtype: float64\n"
     ]
    },
    {
     "data": {
      "image/png": "[encoded data removed]",
      "text/plain": [
       "<Figure size 360x216 with 1 Axes>"
      ]
     },
     "metadata": {
      "needs_background": "light"
     },
     "output_type": "display_data"
    }
   ],
   "source": [
    "# An exploration of an example meta data\n",
    "excl_dataset = 'NUIG'\n",
    "meta_f = u'./meta/sum_asy_meta_excl_'+excl_dataset+'.csv'\n",
    "meta_dat = pd.read_csv(meta_f)\n",
    "print(meta_dat.columns)\n",
    "\n",
    "csv_list =  meta_dat[u'Region']\n",
    "print(csv_list[0])\n",
    "pthr_list = [0.05]\n",
    "for pthr in pthr_list:\n",
    "    print(pthr, np.sum(meta_dat[u'pval']<=pthr),\\\n",
    "    1.0*np.sum(meta_dat[u'pval']<=pthr)/meta_dat[u'pval'].count())\n",
    "print('Effect size:', meta_dat[u'estimate'].abs().mean(), meta_dat[u'estimate'].abs().std(),\\\n",
    "        meta_dat[u'estimate'].abs().min(), meta_dat[u'estimate'].abs().max())\n",
    "print(meta_dat[u'estimate'].abs().describe())\n",
    "\n",
    "plt.figure(figsize=(5,3))\n",
    "plt.hist(meta_dat[u'estimate'].abs(),facecolor='g', alpha=0.75, bins=20)\n",
    "plt.xlabel('Cohen\\'s d')\n",
    "plt.ylabel('Frequency')\n",
    "plt.title('Histogram of Effect Size')\n",
    "plt.show()\n",
    "\n",
    "#meta_dat[u'estimate_abs'] = np.abs(meta_dat[u'estimate'])\n",
    "#meta_dat_ordered = meta_dat.sort_values(u'estimate_abs',axis=0)\n",
    "#csv_list_ordered =  meta_dat_ordered[u'Region']\n"
   ]
  },
  {
   "cell_type": "code",
   "execution_count": 61,
   "metadata": {},
   "outputs": [
    {
     "name": "stdout",
     "output_type": "stream",
     "text": [
      "ACPU\n",
      "ADHD-DUB1\n",
      "ADHD WUE\n",
      "ADHD_Rubia1\n",
      "ADHD200_KKI\n",
      "ADHD200_NYU\n",
      "ADHD200_OHSU\n",
      "ADHD200_Peking\n",
      "ADHDKonrad\n",
      "Bergen_adultADHD\n",
      "Bergen_SVG\n",
      "CAPS_UZH\n",
      "DAT_london\n",
      "Dundee\n",
      "Hartford_Olin\n",
      "IMpACT_NL\n",
      "MGH_ADHD\n",
      "MTA\n",
      "NeuroImage_ADAM\n",
      "NeuroImage_NIJM\n",
      "NICAP\n",
      "NICHE\n",
      "NIH\n",
      "NYU ADHD\n",
      "OHSU\n",
      "UAB-ADHD\n",
      "UCHZ\n",
      "HUBIN_KASP\n",
      "TOP15T\n",
      "TOP3T_0\n",
      "TOP3T_GE750\n",
      "Anna\n",
      "AnneU\n",
      "BIG\n",
      "BILGIN\n",
      "CAMH_ASD\n",
      "Christoph\n",
      "ClarissaBr\n",
      "Colm_UCSF\n",
      "ClinG_sample\n",
      "HMS_sample\n",
      "EstherCOBRE\n",
      "EstherMCIC\n",
      "FIDMAG\n",
      "GEB\n",
      "GloriaBPSydney\n",
      "JPCapeTown\n",
      "Malt\n",
      "MatthewSacchet\n",
      "MDD_Ilya\n",
      "MichelleLBC\n",
      "ASY_results_FOR2107\n",
      "ASY_results_MuensterCohort\n",
      "NESDA\n",
      "NeuroIMAGE\n",
      "NicolaMAS\n",
      "NicolaOATS\n",
      "NORM_Moscow\n",
      "NUIG\n",
      "01_Cheng_1.5T\n",
      "01_Cheng_3T\n",
      "02_Heuvel_1.5T\n",
      "02_Heuvel_3T\n",
      "03_Huyser\n",
      "04_Mataix_Cols\n",
      "OXUK\n",
      "GRADUAL\n",
      "OLDERS\n",
      "QTIM\n",
      "Quinn\n",
      "SaoPaulo1\n",
      "SaoPaulo3\n",
      "SaudEPIGEN\n",
      "SHIP-2\n",
      "SHIP-TREND-0\n",
      "StenerEOP\n",
      "UMCG_sample_groenewold\n",
      "1.5T_Adults_Lateralization\n",
      "3T_Adults_Lateralization\n",
      "3T_Child_Adolescent_Lateralization\n",
      "Cousijn\n",
      "DStein\n",
      "EStein\n",
      "Foxe\n",
      "Garavan\n",
      "London\n",
      "Luijten\n",
      "Momenan\n",
      "Orr\n",
      "Ozlem\n",
      "Paulus\n",
      "Schmaal\n",
      "Sinha\n",
      "Sjoerds\n",
      "VanHolst\n",
      "Yucel\n",
      "Kwon_3T\n",
      "KwonNMC_15T\n",
      "KwonSNU_15T\n"
     ]
    },
    {
     "data": {
      "image/png": "[encoded data removed]",
      "text/plain": [
       "<Figure size 432x288 with 1 Axes>"
      ]
     },
     "metadata": {
      "needs_background": "light"
     },
     "output_type": "display_data"
    },
    {
     "data": {
      "image/png": "[encoded data removed]",
      "text/plain": [
       "<Figure size 432x288 with 1 Axes>"
      ]
     },
     "metadata": {
      "needs_background": "light"
     },
     "output_type": "display_data"
    }
   ],
   "source": [
    "# construct the matrix for result consistency between single dataset and the meta results with all the other datasets.\n",
    "dataset_info_file = '../../../../doc/dataset_info.csv'\n",
    "dataset_info = pd.read_csv(dataset_info_file)\n",
    "\n",
    "pthr = 0.05\n",
    "\n",
    "dataset_by_region_mat = np.zeros((len(dataset_info['Dataset']),70)) \n",
    "# 1 for the same results (sig. & same direction, or all not sig.), otherwise 0 \n",
    "\n",
    "dataset_by_region_mat2 = np.zeros((len(dataset_info['Dataset']),70)) \n",
    "# 1 for the same results (sig. & same direction), otherwise 0 \n",
    "\n",
    "for j, dataset in enumerate(dataset_info['Dataset']):\n",
    "    print(dataset)\n",
    "    # read the meta results while excluding that dataset\n",
    "    meta_f = u'./meta/sum_asy_meta_excl_'+dataset+'.csv'\n",
    "    meta_dat = pd.read_csv(meta_f)\n",
    "    meta_dat[u'estimate_abs'] = np.abs(meta_dat[u'estimate'])\n",
    "    \n",
    "    csv_list =  meta_dat[u'Region']\n",
    "    for i, csv_f in enumerate(csv_list):\n",
    "        meta_z = meta_dat[u'zval'][i] # meta effect for that region\n",
    "        meta_p = meta_dat[u'pval'][i] # meta effect for that region\n",
    "        csv_dat = pd.read_csv(os.path.join('../../../../out/',csv_f))\n",
    "        \n",
    "        csv_dat = csv_dat[csv_dat['Dataset']==dataset]\n",
    "        #print(meta_p, meta_z, csv_dat[u'p'].values[0], csv_dat[u't'].values[0])\n",
    "        if (meta_p <=pthr) and (csv_dat[u'p'].values[0]<=pthr) and ((csv_dat[u't'].values[0]*meta_z)>0)==True: \n",
    "            # significant & same direction\n",
    "            dataset_by_region_mat[j,i] = 1\n",
    "        elif (meta_p >pthr) and (csv_dat[u'p'].values[0]>pthr): # both not sig.\n",
    "            dataset_by_region_mat[j,i] = 1\n",
    "        else: # meta_p > pthr for ~false positive\n",
    "            dataset_by_region_mat[j,i] = 0 \n",
    "            \n",
    "        if (meta_p <=pthr) and (csv_dat[u'p'].values[0]<=pthr) and ((csv_dat[u't'].values[0]*meta_z)>0)==True: \n",
    "            # significant & same direction\n",
    "            dataset_by_region_mat2[j,i] = 1            \n",
    "        else: # meta_p > pthr for ~false positive\n",
    "            dataset_by_region_mat2[j,i] = 0\n",
    "\n",
    "plt.imshow(dataset_by_region_mat)\n",
    "plt.show()\n",
    "\n",
    "plt.imshow(dataset_by_region_mat2)\n",
    "plt.show()\n"
   ]
  },
  {
   "cell_type": "code",
   "execution_count": 140,
   "metadata": {},
   "outputs": [
    {
     "name": "stdout",
     "output_type": "stream",
     "text": [
      "Ovall mean and sd, across 70 region effects\n",
      " 0.6318903318903318 0.22939770231362178\n",
      "Max, and min:\n",
      " 0.2222222222222222 0.9696969696969697\n",
      "1.5T: 0.6664285714285714\n",
      "3T: 0.6009118541033436\n",
      "T-test: Ttest_indResult(statistic=1.5765045829923583, pvalue=0.11719923444180225)\n"
     ]
    }
   ],
   "source": [
    "# characterize the reproducibility\n",
    "print('Ovall mean and sd, across 70 region effects\\n', \n",
    "      dataset_by_region_mat.mean(axis=0).mean(), \n",
    "      dataset_by_region_mat.mean(axis=0).std())\n",
    "print('Max, and min:\\n',\n",
    "      dataset_by_region_mat.mean(axis=0).min(), \n",
    "      dataset_by_region_mat.mean(axis=0).max())\n",
    "\n",
    "print('1.5T:', dataset_by_region_mat[dataset_info['ScannerField_raw']==1.5,:].mean(axis=0).mean())\n",
    "print('3T:', dataset_by_region_mat[dataset_info['ScannerField_raw']==3,:].mean(axis=0).mean())\n",
    "print('T-test:', ttest_ind(dataset_by_region_mat[dataset_info['ScannerField_raw']==1.5,:].mean(axis=0),\n",
    "               dataset_by_region_mat[dataset_info['ScannerField_raw']==3,:].mean(axis=0)))\n"
   ]
  },
  {
   "cell_type": "code",
   "execution_count": 141,
   "metadata": {},
   "outputs": [
    {
     "name": "stdout",
     "output_type": "stream",
     "text": [
      "(8, 29)\n"
     ]
    },
    {
     "name": "stderr",
     "output_type": "stream",
     "text": [
      "/Users/xiakon/anaconda3/lib/python3.7/site-packages/seaborn/timeseries.py:183: UserWarning: The `tsplot` function is deprecated and will be removed in a future release. Please update your code to use the new `lineplot` function.\n",
      "  warnings.warn(msg, UserWarning)\n"
     ]
    },
    {
     "name": "stdout",
     "output_type": "stream",
     "text": [
      "(8, 15)\n",
      "(8, 13)\n",
      "(8, 2)\n",
      "(8, 11)\n"
     ]
    },
    {
     "data": {
      "image/png": "[encoded data removed]",
      "text/plain": [
       "<Figure size 432x288 with 1 Axes>"
      ]
     },
     "metadata": {
      "needs_background": "light"
     },
     "output_type": "display_data"
    }
   ],
   "source": [
    "# check association with sample size of single dataset\n",
    "N_list = [15, 50, 100, 150, 200, 300, 400, 500]\n",
    "d_list = [0, 0.2, 0.4, 0.6, 0.8] # based on the overall meta with all datasets\n",
    "orig_meta_f = u'../../../../meta/sum_asy_meta.csv'\n",
    "orig_meta_dat = pd.read_csv(orig_meta_f)\n",
    "orig_meta_dat[u'estimate_abs'] = np.abs(orig_meta_dat[u'estimate'])\n",
    "\n",
    "irr_n_mat = np.zeros((len(d_list),len(N_list))) # intrinsic reproducibility\n",
    "\n",
    "color_list = ['c', 'm', 'y', 'k', 'pink']\n",
    "\n",
    "for j, ef in enumerate(d_list):\n",
    "    if ef<d_list[-1]:\n",
    "        ef_index = (orig_meta_dat[u'estimate_abs']>ef) & (orig_meta_dat[u'estimate_abs']<d_list[j+1])\n",
    "    else:\n",
    "        ef_index = orig_meta_dat[u'estimate_abs']>ef\n",
    "    ef_sz_tmp = []\n",
    "    for i,sz in enumerate(N_list):\n",
    "        if sz<N_list[-1]:\n",
    "            #sz_index = (dataset_info[u'N']>=sz) & (dataset_info[u'N']<N_list[i+1])\n",
    "            sz_index = (dataset_info[u'N']>=sz)\n",
    "        else:\n",
    "            sz_index = dataset_info[u'N']>=sz\n",
    "            \n",
    "        tmp = dataset_by_region_mat[sz_index,:][:,ef_index]\n",
    "        #print(tmp.mean(axis=0).shape)\n",
    "        ef_sz_tmp.append(tmp.mean(axis=0))\n",
    "        irr_n_mat[j,i] = tmp.mean(axis=0).mean()\n",
    "    \n",
    "    ef_sz_tmp = np.array(ef_sz_tmp)\n",
    "    print(ef_sz_tmp.shape)\n",
    "    sns.tsplot(data=ef_sz_tmp.T, ci=[95], color=color_list[j])    \n",
    "    plt.xticks(range(len(N_list)), ['15','50','100','150','200','300','400','500'])\n",
    "    plt.xlabel(\"Minimum Sample Size\", fontsize=14)\n",
    "    plt.ylabel(\"Reproducibility\", fontsize=14)\n",
    "    plt.yticks((0.2, 0.4, 0.6, 0.8, 1.0))\n",
    "\n",
    "#plt.show()\n",
    "plt.savefig('Fig_new_effect_size.tif',dpi=600,bbox_inches='tight')\n",
    "#plt.imshow(irr_n_mat)\n",
    "#plt.show()\n"
   ]
  },
  {
   "cell_type": "code",
   "execution_count": null,
   "metadata": {},
   "outputs": [],
   "source": []
  }
 ],
 "metadata": {
  "kernelspec": {
   "display_name": "Python 3",
   "language": "python",
   "name": "python3"
  },
  "language_info": {
   "codemirror_mode": {
    "name": "ipython",
    "version": 3
   },
   "file_extension": ".py",
   "mimetype": "text/x-python",
   "name": "python",
   "nbconvert_exporter": "python",
   "pygments_lexer": "ipython3",
   "version": "3.7.4"
  }
 },
 "nbformat": 4,
 "nbformat_minor": 1
}
